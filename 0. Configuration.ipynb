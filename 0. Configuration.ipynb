{
 "cells": [
  {
   "cell_type": "markdown",
   "metadata": {},
   "source": [
    "# Configuration Azure ML service"
   ]
  },
  {
   "cell_type": "markdown",
   "metadata": {},
   "source": [
    "<img src=\"https://cdn.thenewstack.io/media/2018/10/2e4f0988-az-ml-0.png\">"
   ]
  },
  {
   "cell_type": "markdown",
   "metadata": {},
   "source": [
    "Documentation : https://docs.microsoft.com/en-us/azure/machine-learning/"
   ]
  },
  {
   "cell_type": "markdown",
   "metadata": {},
   "source": [
    "Nouveautés versions Azure ML service\n",
    "https://docs.microsoft.com/en-us/azure/machine-learning/service/azure-machine-learning-release-notes?view=azure-ml-py"
   ]
  },
  {
   "cell_type": "markdown",
   "metadata": {},
   "source": [
    "## Version Python"
   ]
  },
  {
   "cell_type": "code",
   "execution_count": 1,
   "metadata": {},
   "outputs": [
    {
     "data": {
      "text/plain": [
       "'3.6.6 |Anaconda, Inc.| (default, Jun 28 2018, 17:14:51) \\n[GCC 7.2.0]'"
      ]
     },
     "execution_count": 1,
     "metadata": {},
     "output_type": "execute_result"
    }
   ],
   "source": [
    "import sys\n",
    "sys.version"
   ]
  },
  {
   "cell_type": "code",
   "execution_count": 11,
   "metadata": {},
   "outputs": [
    {
     "name": "stdout",
     "output_type": "stream",
     "text": [
      "Date : 2019-10-22 08:39:56.804816\n"
     ]
    }
   ],
   "source": [
    "import datetime\n",
    "maintenant = datetime.datetime.now()\n",
    "print('Date :', maintenant)"
   ]
  },
  {
   "cell_type": "markdown",
   "metadata": {},
   "source": [
    "## Installation librairie AzureML service\n",
    "\n",
    "Release notes Azure ML service : https://docs.microsoft.com/en-us/azure/machine-learning/service/azure-machine-learning-release-notes"
   ]
  },
  {
   "cell_type": "markdown",
   "metadata": {},
   "source": [
    "### Pour installer la première fois"
   ]
  },
  {
   "cell_type": "code",
   "execution_count": 3,
   "metadata": {},
   "outputs": [],
   "source": [
    "!pip install azureml-sdk\n",
    "# Redémarrer ensuite le kernel Jupyter"
   ]
  },
  {
   "cell_type": "markdown",
   "metadata": {},
   "source": [
    "### Pour mettre à jour Azure ML service"
   ]
  },
  {
   "cell_type": "code",
   "execution_count": 4,
   "metadata": {},
   "outputs": [],
   "source": [
    "#!pip install --upgrade azureml-sdk\n",
    "\n",
    "# Penser à mettre à jour les extras et ensuite à relancer le kernel Jupyter\n",
    "#!pip install --upgrade azureml-sdk[automl,notebooks,explain,contrib,services,tensorboard]"
   ]
  },
  {
   "cell_type": "markdown",
   "metadata": {},
   "source": [
    "## Version Azure ML service installée"
   ]
  },
  {
   "cell_type": "code",
   "execution_count": 1,
   "metadata": {
    "scrolled": true
   },
   "outputs": [
    {
     "name": "stdout",
     "output_type": "stream",
     "text": [
      "Version Azure ML service : 1.0.57\n"
     ]
    }
   ],
   "source": [
    "import azureml.core\n",
    "print(\"Version Azure ML service :\", azureml.core.VERSION)"
   ]
  },
  {
   "cell_type": "markdown",
   "metadata": {},
   "source": [
    "&gt; Version 1.0.69 au 22/10/2019"
   ]
  },
  {
   "cell_type": "markdown",
   "metadata": {},
   "source": [
    "## Connexion workspace"
   ]
  },
  {
   "cell_type": "code",
   "execution_count": 6,
   "metadata": {},
   "outputs": [],
   "source": [
    "import os\n",
    "\n",
    "subscription_id = os.environ.get(\"SUBSCRIPTION_ID\", \"A RENSEIGNER\")\n",
    "resource_group = os.environ.get(\"RESOURCE_GROUP\", \"azuremlserviceresourcegroup\")\n",
    "workspace_name = os.environ.get(\"WORKSPACE_NAME\", \"azuremlservice\")"
   ]
  },
  {
   "cell_type": "code",
   "execution_count": 7,
   "metadata": {},
   "outputs": [
    {
     "name": "stdout",
     "output_type": "stream",
     "text": [
      "Le workspace Azure ML service a été trouvé : OK\n"
     ]
    }
   ],
   "source": [
    "from azureml.core import Workspace\n",
    "\n",
    "try:\n",
    "   ws = Workspace(subscription_id = subscription_id, resource_group = resource_group, workspace_name = workspace_name)\n",
    "   ws.write_config()\n",
    "   print(\"Le workspace Azure ML service a été trouvé : OK\")\n",
    "except:\n",
    "   print(\"Le workspace Azure ML service n'a pas été trouvé\")"
   ]
  },
  {
   "cell_type": "code",
   "execution_count": 8,
   "metadata": {},
   "outputs": [],
   "source": [
    "import logging\n",
    "import os\n",
    "import random\n",
    "\n",
    "from matplotlib import pyplot as plt\n",
    "from matplotlib.pyplot import imshow\n",
    "import numpy as np\n",
    "import pandas as pd\n",
    "from sklearn import datasets\n",
    "\n",
    "import azureml.core\n",
    "from azureml.core.experiment import Experiment\n",
    "from azureml.core.workspace import Workspace\n",
    "from azureml.train.automl import AutoMLConfig\n",
    "from azureml.train.automl.run import AutoMLRun"
   ]
  },
  {
   "cell_type": "markdown",
   "metadata": {},
   "source": [
    "## Création expérimentation"
   ]
  },
  {
   "cell_type": "code",
   "execution_count": 9,
   "metadata": {
    "scrolled": true
   },
   "outputs": [
    {
     "data": {
      "text/html": [
       "<div>\n",
       "<style>\n",
       "    .dataframe tbody tr th:only-of-type {\n",
       "        vertical-align: middle;\n",
       "    }\n",
       "\n",
       "    .dataframe tbody tr th {\n",
       "        vertical-align: top;\n",
       "    }\n",
       "\n",
       "    .dataframe thead th {\n",
       "        text-align: right;\n",
       "    }\n",
       "</style>\n",
       "<table class=\"dataframe\">\n",
       "  <thead>\n",
       "    <tr style=\"text-align: right;\">\n",
       "      <th></th>\n",
       "      <th></th>\n",
       "    </tr>\n",
       "  </thead>\n",
       "  <tbody>\n",
       "    <tr>\n",
       "      <th>Version Azure ML service :</th>\n",
       "      <td>1.0.69</td>\n",
       "    </tr>\n",
       "    <tr>\n",
       "      <th>Nom du workspace :</th>\n",
       "      <td>azuremlservice</td>\n",
       "    </tr>\n",
       "    <tr>\n",
       "      <th>Ressource groupe :</th>\n",
       "      <td>azuremlserviceresourcegroup</td>\n",
       "    </tr>\n",
       "    <tr>\n",
       "      <th>Localisation :</th>\n",
       "      <td>westeurope</td>\n",
       "    </tr>\n",
       "    <tr>\n",
       "      <th>Répertoire projet :</th>\n",
       "      <td>./sampleprojects/test</td>\n",
       "    </tr>\n",
       "    <tr>\n",
       "      <th>Nom expérience :</th>\n",
       "      <td>workshoptest</td>\n",
       "    </tr>\n",
       "  </tbody>\n",
       "</table>\n",
       "</div>"
      ],
      "text/plain": [
       "                                                        \n",
       "Version Azure ML service :   1.0.69                     \n",
       "Nom du workspace :           azuremlservice             \n",
       "Ressource groupe :           azuremlserviceresourcegroup\n",
       "Localisation :               westeurope                 \n",
       "Répertoire projet :          ./sampleprojects/test      \n",
       "Nom expérience :             workshoptest               "
      ]
     },
     "execution_count": 9,
     "metadata": {},
     "output_type": "execute_result"
    }
   ],
   "source": [
    "ws = Workspace.from_config()\n",
    "\n",
    "# Nom de l'expérimentation Azure ML service\n",
    "experiment_name = 'workshoptest'\n",
    "\n",
    "project_folder = './sampleprojects/test'\n",
    "\n",
    "experiment = Experiment(ws, experiment_name)\n",
    "\n",
    "output = {}\n",
    "output['Version Azure ML service : '] = azureml.core.VERSION\n",
    "output['Nom du workspace : '] = ws.name\n",
    "output['Ressource groupe : '] = ws.resource_group\n",
    "output['Localisation : '] = ws.location\n",
    "output['Répertoire projet : '] = project_folder\n",
    "output['Nom expérience : '] = experiment.name\n",
    "pd.set_option('display.max_colwidth', -1)\n",
    "pd.DataFrame(data = output, index = ['']).T"
   ]
  },
  {
   "cell_type": "markdown",
   "metadata": {},
   "source": [
    "## Visualisation des compute targets provisionnés"
   ]
  },
  {
   "cell_type": "code",
   "execution_count": 10,
   "metadata": {},
   "outputs": [
    {
     "data": {
      "text/plain": [
       "[{'name': 'Standard_D1',\n",
       "  'vCPUs': 1,\n",
       "  'gpus': 0,\n",
       "  'memoryGB': 3.5,\n",
       "  'maxResourceVolumeMB': 51200},\n",
       " {'name': 'Standard_D2',\n",
       "  'vCPUs': 2,\n",
       "  'gpus': 0,\n",
       "  'memoryGB': 7.0,\n",
       "  'maxResourceVolumeMB': 102400},\n",
       " {'name': 'Standard_D3',\n",
       "  'vCPUs': 4,\n",
       "  'gpus': 0,\n",
       "  'memoryGB': 14.0,\n",
       "  'maxResourceVolumeMB': 204800},\n",
       " {'name': 'Standard_D4',\n",
       "  'vCPUs': 8,\n",
       "  'gpus': 0,\n",
       "  'memoryGB': 28.0,\n",
       "  'maxResourceVolumeMB': 409600},\n",
       " {'name': 'Standard_D11',\n",
       "  'vCPUs': 2,\n",
       "  'gpus': 0,\n",
       "  'memoryGB': 14.0,\n",
       "  'maxResourceVolumeMB': 102400},\n",
       " {'name': 'Standard_D12',\n",
       "  'vCPUs': 4,\n",
       "  'gpus': 0,\n",
       "  'memoryGB': 28.0,\n",
       "  'maxResourceVolumeMB': 204800},\n",
       " {'name': 'Standard_D13',\n",
       "  'vCPUs': 8,\n",
       "  'gpus': 0,\n",
       "  'memoryGB': 56.0,\n",
       "  'maxResourceVolumeMB': 409600},\n",
       " {'name': 'Standard_D14',\n",
       "  'vCPUs': 16,\n",
       "  'gpus': 0,\n",
       "  'memoryGB': 112.0,\n",
       "  'maxResourceVolumeMB': 819200},\n",
       " {'name': 'Standard_D1_v2',\n",
       "  'vCPUs': 1,\n",
       "  'gpus': 0,\n",
       "  'memoryGB': 3.5,\n",
       "  'maxResourceVolumeMB': 51200},\n",
       " {'name': 'Standard_D2_v2',\n",
       "  'vCPUs': 2,\n",
       "  'gpus': 0,\n",
       "  'memoryGB': 7.0,\n",
       "  'maxResourceVolumeMB': 102400},\n",
       " {'name': 'Standard_D3_v2',\n",
       "  'vCPUs': 4,\n",
       "  'gpus': 0,\n",
       "  'memoryGB': 14.0,\n",
       "  'maxResourceVolumeMB': 204800},\n",
       " {'name': 'Standard_D4_v2',\n",
       "  'vCPUs': 8,\n",
       "  'gpus': 0,\n",
       "  'memoryGB': 28.0,\n",
       "  'maxResourceVolumeMB': 409600},\n",
       " {'name': 'Standard_D11_v2',\n",
       "  'vCPUs': 2,\n",
       "  'gpus': 0,\n",
       "  'memoryGB': 14.0,\n",
       "  'maxResourceVolumeMB': 102400},\n",
       " {'name': 'Standard_D12_v2',\n",
       "  'vCPUs': 4,\n",
       "  'gpus': 0,\n",
       "  'memoryGB': 28.0,\n",
       "  'maxResourceVolumeMB': 204800},\n",
       " {'name': 'Standard_D13_v2',\n",
       "  'vCPUs': 8,\n",
       "  'gpus': 0,\n",
       "  'memoryGB': 56.0,\n",
       "  'maxResourceVolumeMB': 409600},\n",
       " {'name': 'Standard_D14_v2',\n",
       "  'vCPUs': 16,\n",
       "  'gpus': 0,\n",
       "  'memoryGB': 112.0,\n",
       "  'maxResourceVolumeMB': 819200},\n",
       " {'name': 'Standard_DS1_v2',\n",
       "  'vCPUs': 1,\n",
       "  'gpus': 0,\n",
       "  'memoryGB': 3.5,\n",
       "  'maxResourceVolumeMB': 7168},\n",
       " {'name': 'Standard_DS2_v2',\n",
       "  'vCPUs': 2,\n",
       "  'gpus': 0,\n",
       "  'memoryGB': 7.0,\n",
       "  'maxResourceVolumeMB': 14336},\n",
       " {'name': 'Standard_DS3_v2',\n",
       "  'vCPUs': 4,\n",
       "  'gpus': 0,\n",
       "  'memoryGB': 14.0,\n",
       "  'maxResourceVolumeMB': 28672},\n",
       " {'name': 'Standard_DS4_v2',\n",
       "  'vCPUs': 8,\n",
       "  'gpus': 0,\n",
       "  'memoryGB': 28.0,\n",
       "  'maxResourceVolumeMB': 57344},\n",
       " {'name': 'Standard_DS5_v2',\n",
       "  'vCPUs': 16,\n",
       "  'gpus': 0,\n",
       "  'memoryGB': 56.0,\n",
       "  'maxResourceVolumeMB': 114688},\n",
       " {'name': 'Standard_DS11_v2',\n",
       "  'vCPUs': 2,\n",
       "  'gpus': 0,\n",
       "  'memoryGB': 14.0,\n",
       "  'maxResourceVolumeMB': 28672},\n",
       " {'name': 'Standard_DS12_v2',\n",
       "  'vCPUs': 4,\n",
       "  'gpus': 0,\n",
       "  'memoryGB': 28.0,\n",
       "  'maxResourceVolumeMB': 57344},\n",
       " {'name': 'Standard_DS13_v2',\n",
       "  'vCPUs': 8,\n",
       "  'gpus': 0,\n",
       "  'memoryGB': 56.0,\n",
       "  'maxResourceVolumeMB': 114688},\n",
       " {'name': 'Standard_DS14_v2',\n",
       "  'vCPUs': 16,\n",
       "  'gpus': 0,\n",
       "  'memoryGB': 112.0,\n",
       "  'maxResourceVolumeMB': 229376},\n",
       " {'name': 'Standard_DS15_v2',\n",
       "  'vCPUs': 20,\n",
       "  'gpus': 0,\n",
       "  'memoryGB': 140.0,\n",
       "  'maxResourceVolumeMB': 286720},\n",
       " {'name': 'Standard_NV6',\n",
       "  'vCPUs': 6,\n",
       "  'gpus': 1,\n",
       "  'memoryGB': 56.0,\n",
       "  'maxResourceVolumeMB': 389120},\n",
       " {'name': 'Standard_NV12',\n",
       "  'vCPUs': 12,\n",
       "  'gpus': 2,\n",
       "  'memoryGB': 112.0,\n",
       "  'maxResourceVolumeMB': 696320},\n",
       " {'name': 'Standard_NV24',\n",
       "  'vCPUs': 24,\n",
       "  'gpus': 4,\n",
       "  'memoryGB': 224.0,\n",
       "  'maxResourceVolumeMB': 1474560},\n",
       " {'name': 'Standard_F2s_v2',\n",
       "  'vCPUs': 2,\n",
       "  'gpus': 0,\n",
       "  'memoryGB': 4.0,\n",
       "  'maxResourceVolumeMB': 16384},\n",
       " {'name': 'Standard_F4s_v2',\n",
       "  'vCPUs': 4,\n",
       "  'gpus': 0,\n",
       "  'memoryGB': 8.0,\n",
       "  'maxResourceVolumeMB': 32768},\n",
       " {'name': 'Standard_F8s_v2',\n",
       "  'vCPUs': 8,\n",
       "  'gpus': 0,\n",
       "  'memoryGB': 16.0,\n",
       "  'maxResourceVolumeMB': 65536},\n",
       " {'name': 'Standard_F16s_v2',\n",
       "  'vCPUs': 16,\n",
       "  'gpus': 0,\n",
       "  'memoryGB': 32.0,\n",
       "  'maxResourceVolumeMB': 131072},\n",
       " {'name': 'Standard_F32s_v2',\n",
       "  'vCPUs': 32,\n",
       "  'gpus': 0,\n",
       "  'memoryGB': 64.0,\n",
       "  'maxResourceVolumeMB': 262144},\n",
       " {'name': 'Standard_F64s_v2',\n",
       "  'vCPUs': 64,\n",
       "  'gpus': 0,\n",
       "  'memoryGB': 128.0,\n",
       "  'maxResourceVolumeMB': 524288},\n",
       " {'name': 'Standard_F72s_v2',\n",
       "  'vCPUs': 72,\n",
       "  'gpus': 0,\n",
       "  'memoryGB': 144.0,\n",
       "  'maxResourceVolumeMB': 589824},\n",
       " {'name': 'Standard_NC6s_v3',\n",
       "  'vCPUs': 6,\n",
       "  'gpus': 1,\n",
       "  'memoryGB': 112.0,\n",
       "  'maxResourceVolumeMB': 344064},\n",
       " {'name': 'Standard_NC12s_v3',\n",
       "  'vCPUs': 12,\n",
       "  'gpus': 2,\n",
       "  'memoryGB': 224.0,\n",
       "  'maxResourceVolumeMB': 688128},\n",
       " {'name': 'Standard_NC24rs_v3',\n",
       "  'vCPUs': 24,\n",
       "  'gpus': 4,\n",
       "  'memoryGB': 448.0,\n",
       "  'maxResourceVolumeMB': 1376256},\n",
       " {'name': 'Standard_NC24s_v3',\n",
       "  'vCPUs': 24,\n",
       "  'gpus': 4,\n",
       "  'memoryGB': 448.0,\n",
       "  'maxResourceVolumeMB': 1376256},\n",
       " {'name': 'Standard_NC6',\n",
       "  'vCPUs': 6,\n",
       "  'gpus': 1,\n",
       "  'memoryGB': 56.0,\n",
       "  'maxResourceVolumeMB': 389120},\n",
       " {'name': 'Standard_NC12',\n",
       "  'vCPUs': 12,\n",
       "  'gpus': 2,\n",
       "  'memoryGB': 112.0,\n",
       "  'maxResourceVolumeMB': 696320},\n",
       " {'name': 'Standard_NC24',\n",
       "  'vCPUs': 24,\n",
       "  'gpus': 4,\n",
       "  'memoryGB': 224.0,\n",
       "  'maxResourceVolumeMB': 1474560},\n",
       " {'name': 'Standard_NC24r',\n",
       "  'vCPUs': 24,\n",
       "  'gpus': 4,\n",
       "  'memoryGB': 224.0,\n",
       "  'maxResourceVolumeMB': 1474560},\n",
       " {'name': 'Standard_NC6s_v2',\n",
       "  'vCPUs': 6,\n",
       "  'gpus': 1,\n",
       "  'memoryGB': 112.0,\n",
       "  'maxResourceVolumeMB': 344064},\n",
       " {'name': 'Standard_NC12s_v2',\n",
       "  'vCPUs': 12,\n",
       "  'gpus': 2,\n",
       "  'memoryGB': 224.0,\n",
       "  'maxResourceVolumeMB': 688128},\n",
       " {'name': 'Standard_NC24rs_v2',\n",
       "  'vCPUs': 24,\n",
       "  'gpus': 4,\n",
       "  'memoryGB': 448.0,\n",
       "  'maxResourceVolumeMB': 1376256},\n",
       " {'name': 'Standard_NC24s_v2',\n",
       "  'vCPUs': 24,\n",
       "  'gpus': 4,\n",
       "  'memoryGB': 448.0,\n",
       "  'maxResourceVolumeMB': 1376256}]"
      ]
     },
     "execution_count": 10,
     "metadata": {},
     "output_type": "execute_result"
    }
   ],
   "source": [
    "# Liste des Compute Target disponibles\n",
    "from azureml.core.compute import ComputeTarget, AmlCompute\n",
    "AmlCompute.supported_vmsizes(workspace=ws)"
   ]
  },
  {
   "cell_type": "markdown",
   "metadata": {},
   "source": [
    "&gt; Fin"
   ]
  }
 ],
 "metadata": {
  "kernelspec": {
   "display_name": "Python 3.6",
   "language": "python",
   "name": "python36"
  },
  "language_info": {
   "codemirror_mode": {
    "name": "ipython",
    "version": 3
   },
   "file_extension": ".py",
   "mimetype": "text/x-python",
   "name": "python",
   "nbconvert_exporter": "python",
   "pygments_lexer": "ipython3",
   "version": "3.6.6"
  }
 },
 "nbformat": 4,
 "nbformat_minor": 2
}
