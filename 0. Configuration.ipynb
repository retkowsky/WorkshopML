{
  "cells": [
    {
      "metadata": {},
      "cell_type": "markdown",
      "source": "# Configuration Azure ML service"
    },
    {
      "metadata": {},
      "cell_type": "markdown",
      "source": "<img src='https://cdn.thenewstack.io/media/2018/10/2e4f0988-az-ml-0.png'>"
    },
    {
      "metadata": {},
      "cell_type": "markdown",
      "source": "Documentation : https://docs.microsoft.com/en-us/azure/machine-learning/"
    },
    {
      "metadata": {},
      "cell_type": "markdown",
      "source": "Nouveautés versions Azure ML service\nhttps://docs.microsoft.com/en-us/azure/machine-learning/service/azure-machine-learning-release-notes?view=azure-ml-py"
    },
    {
      "metadata": {},
      "cell_type": "markdown",
      "source": "## Version Python"
    },
    {
      "metadata": {
        "trusted": true
      },
      "cell_type": "code",
      "source": "import sys\nsys.version",
      "execution_count": 1,
      "outputs": [
        {
          "output_type": "execute_result",
          "execution_count": 1,
          "data": {
            "text/plain": "'3.6.6 |Anaconda, Inc.| (default, Jun 28 2018, 17:14:51) \\n[GCC 7.2.0]'"
          },
          "metadata": {}
        }
      ]
    },
    {
      "metadata": {
        "trusted": true
      },
      "cell_type": "code",
      "source": "import datetime\nmaintenant = datetime.datetime.now()\nprint('Date :', maintenant)",
      "execution_count": 11,
      "outputs": [
        {
          "output_type": "stream",
          "text": "Date : 2019-10-22 08:39:56.804816\n",
          "name": "stdout"
        }
      ]
    },
    {
      "metadata": {},
      "cell_type": "markdown",
      "source": "## Installation librairie AzureML service\n\nRelease notes Azure ML service : https://docs.microsoft.com/en-us/azure/machine-learning/service/azure-machine-learning-release-notes"
    },
    {
      "metadata": {},
      "cell_type": "markdown",
      "source": "### Pour installer la première fois"
    },
    {
      "metadata": {
        "trusted": true
      },
      "cell_type": "code",
      "source": "#!pip install azureml-sdk\n# Redémarrer ensuite le kernel Jupyter",
      "execution_count": 3,
      "outputs": []
    },
    {
      "metadata": {},
      "cell_type": "markdown",
      "source": "### Pour mettre à jour Azure ML service"
    },
    {
      "metadata": {
        "trusted": true
      },
      "cell_type": "code",
      "source": "#!pip install --upgrade azureml-sdk\n\n# Penser à mettre à jour les extras et ensuite à relancer le kernel Jupyter\n#!pip install --upgrade azureml-sdk[automl,notebooks,explain,contrib,services,tensorboard]",
      "execution_count": 4,
      "outputs": []
    },
    {
      "metadata": {},
      "cell_type": "markdown",
      "source": "## Version Azure ML service installée"
    },
    {
      "metadata": {
        "trusted": true
      },
      "cell_type": "code",
      "source": "import azureml.core\nprint(\"Version Azure ML service :\", azureml.core.VERSION)",
      "execution_count": 5,
      "outputs": [
        {
          "output_type": "stream",
          "text": "Version Azure ML service : 1.0.69\n",
          "name": "stdout"
        }
      ]
    },
    {
      "metadata": {},
      "cell_type": "markdown",
      "source": "> Version 1.0.69 au 22/10/2019"
    },
    {
      "metadata": {},
      "cell_type": "markdown",
      "source": "## Connexion workspace"
    },
    {
      "metadata": {
        "trusted": true
      },
      "cell_type": "code",
      "source": "import os\n\nsubscription_id = os.environ.get(\"SUBSCRIPTION_ID\", \"70b8f39e-8863-49f7-b6ba-34a80799550c\")\nresource_group = os.environ.get(\"RESOURCE_GROUP\", \"azuremlserviceresourcegroup\")\nworkspace_name = os.environ.get(\"WORKSPACE_NAME\", \"azuremlservice\")",
      "execution_count": 6,
      "outputs": []
    },
    {
      "metadata": {
        "trusted": true
      },
      "cell_type": "code",
      "source": "from azureml.core import Workspace\n\ntry:\n   ws = Workspace(subscription_id = subscription_id, resource_group = resource_group, workspace_name = workspace_name)\n   ws.write_config()\n   print(\"Le workspace Azure ML service a été trouvé : OK\")\nexcept:\n   print(\"Le workspace Azure ML service n'a pas été trouvé\")",
      "execution_count": 7,
      "outputs": [
        {
          "output_type": "stream",
          "text": "Le workspace Azure ML service a été trouvé : OK\n",
          "name": "stdout"
        }
      ]
    },
    {
      "metadata": {
        "trusted": true
      },
      "cell_type": "code",
      "source": "import logging\nimport os\nimport random\n\nfrom matplotlib import pyplot as plt\nfrom matplotlib.pyplot import imshow\nimport numpy as np\nimport pandas as pd\nfrom sklearn import datasets\n\nimport azureml.core\nfrom azureml.core.experiment import Experiment\nfrom azureml.core.workspace import Workspace\nfrom azureml.train.automl import AutoMLConfig\nfrom azureml.train.automl.run import AutoMLRun",
      "execution_count": 8,
      "outputs": []
    },
    {
      "metadata": {},
      "cell_type": "markdown",
      "source": "## Création expérimentation"
    },
    {
      "metadata": {
        "trusted": true
      },
      "cell_type": "code",
      "source": "ws = Workspace.from_config()\n\n# Nom de l'expérimentation Azure ML service\nexperiment_name = 'workshoptest'\n\nproject_folder = './sampleprojects/test'\n\nexperiment = Experiment(ws, experiment_name)\n\noutput = {}\noutput['Version Azure ML service : '] = azureml.core.VERSION\noutput['Nom du workspace : '] = ws.name\noutput['Ressource groupe : '] = ws.resource_group\noutput['Localisation : '] = ws.location\noutput['Répertoire projet : '] = project_folder\noutput['Nom expérience : '] = experiment.name\npd.set_option('display.max_colwidth', -1)\npd.DataFrame(data = output, index = ['']).T",
      "execution_count": 9,
      "outputs": [
        {
          "output_type": "execute_result",
          "execution_count": 9,
          "data": {
            "text/html": "<div>\n<style scoped>\n    .dataframe tbody tr th:only-of-type {\n        vertical-align: middle;\n    }\n\n    .dataframe tbody tr th {\n        vertical-align: top;\n    }\n\n    .dataframe thead th {\n        text-align: right;\n    }\n</style>\n<table border=\"1\" class=\"dataframe\">\n  <thead>\n    <tr style=\"text-align: right;\">\n      <th></th>\n      <th></th>\n    </tr>\n  </thead>\n  <tbody>\n    <tr>\n      <th>Version Azure ML service :</th>\n      <td>1.0.69</td>\n    </tr>\n    <tr>\n      <th>Nom du workspace :</th>\n      <td>azuremlservice</td>\n    </tr>\n    <tr>\n      <th>Ressource groupe :</th>\n      <td>azuremlserviceresourcegroup</td>\n    </tr>\n    <tr>\n      <th>Localisation :</th>\n      <td>westeurope</td>\n    </tr>\n    <tr>\n      <th>Répertoire projet :</th>\n      <td>./sampleprojects/test</td>\n    </tr>\n    <tr>\n      <th>Nom expérience :</th>\n      <td>workshoptest</td>\n    </tr>\n  </tbody>\n</table>\n</div>",
            "text/plain": "                                                        \nVersion Azure ML service :   1.0.69                     \nNom du workspace :           azuremlservice             \nRessource groupe :           azuremlserviceresourcegroup\nLocalisation :               westeurope                 \nRépertoire projet :          ./sampleprojects/test      \nNom expérience :             workshoptest               "
          },
          "metadata": {}
        }
      ]
    },
    {
      "metadata": {},
      "cell_type": "markdown",
      "source": "## Visualisation des compute targets provisionnés"
    },
    {
      "metadata": {
        "trusted": true
      },
      "cell_type": "code",
      "source": "# Liste des Compute Target disponibles\nfrom azureml.core.compute import ComputeTarget, AmlCompute\nAmlCompute.supported_vmsizes(workspace=ws)",
      "execution_count": 10,
      "outputs": [
        {
          "output_type": "execute_result",
          "execution_count": 10,
          "data": {
            "text/plain": "[{'name': 'Standard_D1',\n  'vCPUs': 1,\n  'gpus': 0,\n  'memoryGB': 3.5,\n  'maxResourceVolumeMB': 51200},\n {'name': 'Standard_D2',\n  'vCPUs': 2,\n  'gpus': 0,\n  'memoryGB': 7.0,\n  'maxResourceVolumeMB': 102400},\n {'name': 'Standard_D3',\n  'vCPUs': 4,\n  'gpus': 0,\n  'memoryGB': 14.0,\n  'maxResourceVolumeMB': 204800},\n {'name': 'Standard_D4',\n  'vCPUs': 8,\n  'gpus': 0,\n  'memoryGB': 28.0,\n  'maxResourceVolumeMB': 409600},\n {'name': 'Standard_D11',\n  'vCPUs': 2,\n  'gpus': 0,\n  'memoryGB': 14.0,\n  'maxResourceVolumeMB': 102400},\n {'name': 'Standard_D12',\n  'vCPUs': 4,\n  'gpus': 0,\n  'memoryGB': 28.0,\n  'maxResourceVolumeMB': 204800},\n {'name': 'Standard_D13',\n  'vCPUs': 8,\n  'gpus': 0,\n  'memoryGB': 56.0,\n  'maxResourceVolumeMB': 409600},\n {'name': 'Standard_D14',\n  'vCPUs': 16,\n  'gpus': 0,\n  'memoryGB': 112.0,\n  'maxResourceVolumeMB': 819200},\n {'name': 'Standard_D1_v2',\n  'vCPUs': 1,\n  'gpus': 0,\n  'memoryGB': 3.5,\n  'maxResourceVolumeMB': 51200},\n {'name': 'Standard_D2_v2',\n  'vCPUs': 2,\n  'gpus': 0,\n  'memoryGB': 7.0,\n  'maxResourceVolumeMB': 102400},\n {'name': 'Standard_D3_v2',\n  'vCPUs': 4,\n  'gpus': 0,\n  'memoryGB': 14.0,\n  'maxResourceVolumeMB': 204800},\n {'name': 'Standard_D4_v2',\n  'vCPUs': 8,\n  'gpus': 0,\n  'memoryGB': 28.0,\n  'maxResourceVolumeMB': 409600},\n {'name': 'Standard_D11_v2',\n  'vCPUs': 2,\n  'gpus': 0,\n  'memoryGB': 14.0,\n  'maxResourceVolumeMB': 102400},\n {'name': 'Standard_D12_v2',\n  'vCPUs': 4,\n  'gpus': 0,\n  'memoryGB': 28.0,\n  'maxResourceVolumeMB': 204800},\n {'name': 'Standard_D13_v2',\n  'vCPUs': 8,\n  'gpus': 0,\n  'memoryGB': 56.0,\n  'maxResourceVolumeMB': 409600},\n {'name': 'Standard_D14_v2',\n  'vCPUs': 16,\n  'gpus': 0,\n  'memoryGB': 112.0,\n  'maxResourceVolumeMB': 819200},\n {'name': 'Standard_DS1_v2',\n  'vCPUs': 1,\n  'gpus': 0,\n  'memoryGB': 3.5,\n  'maxResourceVolumeMB': 7168},\n {'name': 'Standard_DS2_v2',\n  'vCPUs': 2,\n  'gpus': 0,\n  'memoryGB': 7.0,\n  'maxResourceVolumeMB': 14336},\n {'name': 'Standard_DS3_v2',\n  'vCPUs': 4,\n  'gpus': 0,\n  'memoryGB': 14.0,\n  'maxResourceVolumeMB': 28672},\n {'name': 'Standard_DS4_v2',\n  'vCPUs': 8,\n  'gpus': 0,\n  'memoryGB': 28.0,\n  'maxResourceVolumeMB': 57344},\n {'name': 'Standard_DS5_v2',\n  'vCPUs': 16,\n  'gpus': 0,\n  'memoryGB': 56.0,\n  'maxResourceVolumeMB': 114688},\n {'name': 'Standard_DS11_v2',\n  'vCPUs': 2,\n  'gpus': 0,\n  'memoryGB': 14.0,\n  'maxResourceVolumeMB': 28672},\n {'name': 'Standard_DS12_v2',\n  'vCPUs': 4,\n  'gpus': 0,\n  'memoryGB': 28.0,\n  'maxResourceVolumeMB': 57344},\n {'name': 'Standard_DS13_v2',\n  'vCPUs': 8,\n  'gpus': 0,\n  'memoryGB': 56.0,\n  'maxResourceVolumeMB': 114688},\n {'name': 'Standard_DS14_v2',\n  'vCPUs': 16,\n  'gpus': 0,\n  'memoryGB': 112.0,\n  'maxResourceVolumeMB': 229376},\n {'name': 'Standard_DS15_v2',\n  'vCPUs': 20,\n  'gpus': 0,\n  'memoryGB': 140.0,\n  'maxResourceVolumeMB': 286720},\n {'name': 'Standard_NV6',\n  'vCPUs': 6,\n  'gpus': 1,\n  'memoryGB': 56.0,\n  'maxResourceVolumeMB': 389120},\n {'name': 'Standard_NV12',\n  'vCPUs': 12,\n  'gpus': 2,\n  'memoryGB': 112.0,\n  'maxResourceVolumeMB': 696320},\n {'name': 'Standard_NV24',\n  'vCPUs': 24,\n  'gpus': 4,\n  'memoryGB': 224.0,\n  'maxResourceVolumeMB': 1474560},\n {'name': 'Standard_F2s_v2',\n  'vCPUs': 2,\n  'gpus': 0,\n  'memoryGB': 4.0,\n  'maxResourceVolumeMB': 16384},\n {'name': 'Standard_F4s_v2',\n  'vCPUs': 4,\n  'gpus': 0,\n  'memoryGB': 8.0,\n  'maxResourceVolumeMB': 32768},\n {'name': 'Standard_F8s_v2',\n  'vCPUs': 8,\n  'gpus': 0,\n  'memoryGB': 16.0,\n  'maxResourceVolumeMB': 65536},\n {'name': 'Standard_F16s_v2',\n  'vCPUs': 16,\n  'gpus': 0,\n  'memoryGB': 32.0,\n  'maxResourceVolumeMB': 131072},\n {'name': 'Standard_F32s_v2',\n  'vCPUs': 32,\n  'gpus': 0,\n  'memoryGB': 64.0,\n  'maxResourceVolumeMB': 262144},\n {'name': 'Standard_F64s_v2',\n  'vCPUs': 64,\n  'gpus': 0,\n  'memoryGB': 128.0,\n  'maxResourceVolumeMB': 524288},\n {'name': 'Standard_F72s_v2',\n  'vCPUs': 72,\n  'gpus': 0,\n  'memoryGB': 144.0,\n  'maxResourceVolumeMB': 589824},\n {'name': 'Standard_NC6s_v3',\n  'vCPUs': 6,\n  'gpus': 1,\n  'memoryGB': 112.0,\n  'maxResourceVolumeMB': 344064},\n {'name': 'Standard_NC12s_v3',\n  'vCPUs': 12,\n  'gpus': 2,\n  'memoryGB': 224.0,\n  'maxResourceVolumeMB': 688128},\n {'name': 'Standard_NC24rs_v3',\n  'vCPUs': 24,\n  'gpus': 4,\n  'memoryGB': 448.0,\n  'maxResourceVolumeMB': 1376256},\n {'name': 'Standard_NC24s_v3',\n  'vCPUs': 24,\n  'gpus': 4,\n  'memoryGB': 448.0,\n  'maxResourceVolumeMB': 1376256},\n {'name': 'Standard_NC6',\n  'vCPUs': 6,\n  'gpus': 1,\n  'memoryGB': 56.0,\n  'maxResourceVolumeMB': 389120},\n {'name': 'Standard_NC12',\n  'vCPUs': 12,\n  'gpus': 2,\n  'memoryGB': 112.0,\n  'maxResourceVolumeMB': 696320},\n {'name': 'Standard_NC24',\n  'vCPUs': 24,\n  'gpus': 4,\n  'memoryGB': 224.0,\n  'maxResourceVolumeMB': 1474560},\n {'name': 'Standard_NC24r',\n  'vCPUs': 24,\n  'gpus': 4,\n  'memoryGB': 224.0,\n  'maxResourceVolumeMB': 1474560},\n {'name': 'Standard_NC6s_v2',\n  'vCPUs': 6,\n  'gpus': 1,\n  'memoryGB': 112.0,\n  'maxResourceVolumeMB': 344064},\n {'name': 'Standard_NC12s_v2',\n  'vCPUs': 12,\n  'gpus': 2,\n  'memoryGB': 224.0,\n  'maxResourceVolumeMB': 688128},\n {'name': 'Standard_NC24rs_v2',\n  'vCPUs': 24,\n  'gpus': 4,\n  'memoryGB': 448.0,\n  'maxResourceVolumeMB': 1376256},\n {'name': 'Standard_NC24s_v2',\n  'vCPUs': 24,\n  'gpus': 4,\n  'memoryGB': 448.0,\n  'maxResourceVolumeMB': 1376256}]"
          },
          "metadata": {}
        }
      ]
    },
    {
      "metadata": {},
      "cell_type": "markdown",
      "source": "> Fin"
    }
  ],
  "metadata": {
    "kernelspec": {
      "name": "python36",
      "display_name": "Python 3.6",
      "language": "python"
    },
    "language_info": {
      "mimetype": "text/x-python",
      "nbconvert_exporter": "python",
      "name": "python",
      "pygments_lexer": "ipython3",
      "version": "3.6.6",
      "file_extension": ".py",
      "codemirror_mode": {
        "version": 3,
        "name": "ipython"
      }
    }
  },
  "nbformat": 4,
  "nbformat_minor": 2
}