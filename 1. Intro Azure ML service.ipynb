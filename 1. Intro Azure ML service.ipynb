{
  "cells": [
    {
      "metadata": {},
      "cell_type": "markdown",
      "source": "# Modélisation avec Azure ML service\n\n<img src='https://cdn.thenewstack.io/media/2018/10/2e4f0988-az-ml-0.png'>\n\n> https://docs.microsoft.com/en-us/azure/machine-learning/"
    },
    {
      "metadata": {
        "trusted": true
      },
      "cell_type": "code",
      "source": "import sys\nsys.version",
      "execution_count": 18,
      "outputs": [
        {
          "output_type": "execute_result",
          "execution_count": 18,
          "data": {
            "text/plain": "'3.6.6 |Anaconda, Inc.| (default, Jun 28 2018, 17:14:51) \\n[GCC 7.2.0]'"
          },
          "metadata": {}
        }
      ]
    },
    {
      "metadata": {
        "trusted": true
      },
      "cell_type": "code",
      "source": "import azureml.core\nfrom azureml.core import Experiment, Workspace\n\n# Check core SDK version number\nprint(\"Version Azure ML service : \", azureml.core.VERSION)",
      "execution_count": 2,
      "outputs": [
        {
          "output_type": "stream",
          "text": "Version Azure ML service :  1.0.69\n",
          "name": "stdout"
        }
      ]
    },
    {
      "metadata": {
        "trusted": true
      },
      "cell_type": "code",
      "source": "# workspace\nws = Workspace.from_config()\nprint('Workspace name: ' + ws.name, \n      'Azure region: ' + ws.location, \n      'Resource group: ' + ws.resource_group, sep='\\n')",
      "execution_count": 3,
      "outputs": [
        {
          "output_type": "stream",
          "text": "Workspace name: azuremlservice\nAzure region: westeurope\nResource group: azuremlserviceresourcegroup\n",
          "name": "stdout"
        }
      ]
    },
    {
      "metadata": {},
      "cell_type": "markdown",
      "source": "## Chargement des données"
    },
    {
      "metadata": {
        "trusted": true
      },
      "cell_type": "code",
      "source": "from sklearn.datasets import load_diabetes\nfrom sklearn.linear_model import Ridge\nfrom sklearn.metrics import mean_squared_error\nfrom sklearn.model_selection import train_test_split\nfrom sklearn.externals import joblib",
      "execution_count": 4,
      "outputs": []
    },
    {
      "metadata": {
        "trusted": true
      },
      "cell_type": "code",
      "source": "X, y = load_diabetes(return_X_y = True)\n\ncolumns = ['age', 'gender', 'bmi', 'bp', 's1', 's2', 's3', 's4', 's5', 's6']\n\nX_train, X_test, y_train, y_test = train_test_split(X, y, test_size=0.2, random_state=0)\n\ndata = {\n    \"train\":{\"X\": X_train, \"y\": y_train},        \n    \"test\":{\"X\": X_test, \"y\": y_test}\n}\n",
      "execution_count": 5,
      "outputs": []
    },
    {
      "metadata": {
        "trusted": true
      },
      "cell_type": "code",
      "source": "print (\"Données : \", len(data['train']['X']), \"obs. = Base Training. \",len(data['test']['X']), \"obs. = Base Test\")",
      "execution_count": 8,
      "outputs": [
        {
          "output_type": "stream",
          "text": "Données :  353 obs. = Base Training.  89 obs. = Base Test\n",
          "name": "stdout"
        }
      ]
    },
    {
      "metadata": {},
      "cell_type": "markdown",
      "source": "## Modélisation"
    },
    {
      "metadata": {
        "trusted": true
      },
      "cell_type": "code",
      "source": "experiment = Experiment(workspace=ws, name=\"workshoptest\")",
      "execution_count": 9,
      "outputs": []
    },
    {
      "metadata": {},
      "cell_type": "markdown",
      "source": "## Les étapes\n1. Logs d'informations\n2. Modélisation\n3. Logs de résultats de modèles\n4. Sauvegarde modèle"
    },
    {
      "metadata": {
        "trusted": true
      },
      "cell_type": "code",
      "source": "from datetime import datetime\nmaintenant = datetime.now()\nprint(\"Maintenant : \", maintenant)",
      "execution_count": 10,
      "outputs": [
        {
          "output_type": "stream",
          "text": "Maintenant :  2019-10-22 08:41:17.638090\n",
          "name": "stdout"
        }
      ]
    },
    {
      "metadata": {
        "trusted": true
      },
      "cell_type": "code",
      "source": "%%time\n# 1. Run object\nrun = experiment.start_logging()\n\n# 2. Logs de valeurs\nrun.log('alpha', 0.1)\nrun.log('date_log', str(maintenant))\n\n# 3. Modèle ML\nregression_model = Ridge(alpha=0.1)\nregression_model.fit(data['train']['X'], data['train']['y'])\npreds = regression_model.predict(data['test']['X'])\n\n# 4. Output\nprint('MSE ou Mean Squared Error du modèle =', mean_squared_error(data['test']['y'], preds))\nrun.log('mse', mean_squared_error(data['test']['y'], preds))\n\n# 5. Export modèle\njoblib.dump(value=regression_model, filename='outputs/model.pkl')\n\n# 6. Fin\nrun.complete()",
      "execution_count": 12,
      "outputs": [
        {
          "output_type": "stream",
          "text": "MSE ou Mean Squared Error du modèle = 3372.6496278100326\nCPU times: user 694 ms, sys: 2.63 s, total: 3.32 s\nWall time: 10.9 s\n",
          "name": "stdout"
        }
      ]
    },
    {
      "metadata": {},
      "cell_type": "markdown",
      "source": "## Visualisation de l'expérimentation sur le portail Azure"
    },
    {
      "metadata": {
        "trusted": true
      },
      "cell_type": "code",
      "source": "run",
      "execution_count": 13,
      "outputs": [
        {
          "output_type": "execute_result",
          "execution_count": 13,
          "data": {
            "text/html": "<table style=\"width:100%\"><tr><th>Experiment</th><th>Id</th><th>Type</th><th>Status</th><th>Details Page</th><th>Docs Page</th></tr><tr><td>workshoptest</td><td>373012c5-2848-411a-ae7b-3443a6a4048b</td><td></td><td>Running</td><td><a href=\"https://mlworkspace.azure.ai/portal/subscriptions/70b8f39e-8863-49f7-b6ba-34a80799550c/resourceGroups/azuremlserviceresourcegroup/providers/Microsoft.MachineLearningServices/workspaces/azuremlservice/experiments/workshoptest/runs/373012c5-2848-411a-ae7b-3443a6a4048b\" target=\"_blank\" rel=\"noopener\">Link to Azure Portal</a></td><td><a href=\"https://docs.microsoft.com/en-us/python/api/azureml-core/azureml.core.run.Run?view=azure-ml-py\" target=\"_blank\" rel=\"noopener\">Link to Documentation</a></td></tr></table>",
            "text/plain": "Run(Experiment: workshoptest,\nId: 373012c5-2848-411a-ae7b-3443a6a4048b,\nType: None,\nStatus: Running)"
          },
          "metadata": {}
        }
      ]
    },
    {
      "metadata": {},
      "cell_type": "markdown",
      "source": "## Recherche du paramétre optimal"
    },
    {
      "metadata": {
        "trusted": true
      },
      "cell_type": "code",
      "source": "%%time\nimport numpy as np\nfrom tqdm import tqdm\n\nmodel_name = \"model.pkl\"\n\n# list of numbers from 0 to 1.0 with a 0.1 interval\nalphas = np.arange(0.0, 1.0, 0.1)\n\n# try a bunch of alpha values in a Linear Regression (Ridge) model\nfor alpha in tqdm(alphas):\n    # create a bunch of runs, each train a model with a different alpha value\n    with experiment.start_logging() as run:\n        # Use Ridge algorithm to build a regression model\n        regression_model = Ridge(alpha=alpha)\n        regression_model.fit(X=data[\"train\"][\"X\"], y=data[\"train\"][\"y\"])\n        preds = regression_model.predict(X=data[\"test\"][\"X\"])\n        mse = mean_squared_error(y_true=data[\"test\"][\"y\"], y_pred=preds)\n       \n        # log alpha, mean_squared_error and feature names in run history\n        run.log(name=\"alpha\", value=alpha)\n        run.log(name=\"mse\", value=mse)\n        \n        # Save the model to the outputs directory for capture\n        joblib.dump(value=regression_model, filename='outputs/model.pkl')\n        ",
      "execution_count": 14,
      "outputs": [
        {
          "output_type": "stream",
          "text": "100%|██████████| 10/10 [02:06<00:00, 12.53s/it]",
          "name": "stderr"
        },
        {
          "output_type": "stream",
          "text": "CPU times: user 11 s, sys: 11.3 s, total: 22.3 s\nWall time: 2min 6s\n",
          "name": "stdout"
        },
        {
          "output_type": "stream",
          "text": "\n",
          "name": "stderr"
        }
      ]
    },
    {
      "metadata": {},
      "cell_type": "markdown",
      "source": "## Visualisation de l'expérimentation Azure ML service sur le portail Azure"
    },
    {
      "metadata": {
        "trusted": true
      },
      "cell_type": "code",
      "source": "experiment",
      "execution_count": 15,
      "outputs": [
        {
          "output_type": "execute_result",
          "execution_count": 15,
          "data": {
            "text/html": "<table style=\"width:100%\"><tr><th>Name</th><th>Workspace</th><th>Report Page</th><th>Docs Page</th></tr><tr><td>workshoptest</td><td>azuremlservice</td><td><a href=\"https://mlworkspace.azure.ai/portal/subscriptions/70b8f39e-8863-49f7-b6ba-34a80799550c/resourceGroups/azuremlserviceresourcegroup/providers/Microsoft.MachineLearningServices/workspaces/azuremlservice/experiments/workshoptest\" target=\"_blank\" rel=\"noopener\">Link to Azure Portal</a></td><td><a href=\"https://docs.microsoft.com/en-us/python/api/azureml-core/azureml.core.experiment.Experiment?view=azure-ml-py\" target=\"_blank\" rel=\"noopener\">Link to Documentation</a></td></tr></table>",
            "text/plain": "Experiment(Name: workshoptest,\nWorkspace: azuremlservice)"
          },
          "metadata": {}
        }
      ]
    },
    {
      "metadata": {},
      "cell_type": "markdown",
      "source": "## Visualisation des résultats"
    },
    {
      "metadata": {
        "trusted": true
      },
      "cell_type": "code",
      "source": "%%time\n\nruns = {}\nrun_metrics = {}\n\n# Create dictionaries containing the runs and the metrics for all runs containing the 'mse' metric\nfor r in tqdm(experiment.get_runs()):\n    metrics = r.get_metrics()\n    if 'mse' in metrics.keys():\n        runs[r.id] = r\n        run_metrics[r.id] = metrics\n\n# Find the run with the best (lowest) mean squared error and display the id and metrics\nbest_run_id = min(run_metrics, key = lambda k: run_metrics[k]['mse'])\nbest_run = runs[best_run_id]\nprint('Best run :', best_run_id)\nprint('Metrics :', run_metrics[best_run_id])\n\n# Tag the best run for identification later\nbest_run.tag(\"Best Run\")",
      "execution_count": 16,
      "outputs": [
        {
          "output_type": "stream",
          "text": "12it [00:11,  1.07it/s]\n",
          "name": "stderr"
        },
        {
          "output_type": "stream",
          "text": "Best run : 3c49b631-289d-4cef-81c0-fb36b19bd138\nMetrics : {'alpha': 0.4, 'mse': 3295.741064355809}\nCPU times: user 1.4 s, sys: 158 ms, total: 1.56 s\nWall time: 12.7 s\n",
          "name": "stdout"
        }
      ]
    },
    {
      "metadata": {
        "trusted": true
      },
      "cell_type": "code",
      "source": "# View the files in the run\n\nfor f in best_run.get_file_names():\n    print(f)\n    \n# Register the model with the workspace\nmodel = best_run.register_model(model_name='best_model_exemple', model_path='outputs/model.pkl')",
      "execution_count": 17,
      "outputs": [
        {
          "output_type": "stream",
          "text": "logs/user_log.txt\noutputs/model.pkl\n",
          "name": "stdout"
        }
      ]
    },
    {
      "metadata": {},
      "cell_type": "markdown",
      "source": "> Fin"
    }
  ],
  "metadata": {
    "kernelspec": {
      "name": "python36",
      "display_name": "Python 3.6",
      "language": "python"
    },
    "language_info": {
      "mimetype": "text/x-python",
      "nbconvert_exporter": "python",
      "name": "python",
      "pygments_lexer": "ipython3",
      "version": "3.6.6",
      "file_extension": ".py",
      "codemirror_mode": {
        "version": 3,
        "name": "ipython"
      }
    }
  },
  "nbformat": 4,
  "nbformat_minor": 2
}